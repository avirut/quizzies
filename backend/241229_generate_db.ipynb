{
 "cells": [
  {
   "cell_type": "code",
   "execution_count": 42,
   "metadata": {},
   "outputs": [
    {
     "data": {
      "text/plain": [
       "True"
      ]
     },
     "execution_count": 42,
     "metadata": {},
     "output_type": "execute_result"
    }
   ],
   "source": [
    "from pathlib import Path\n",
    "from google.cloud import texttospeech_v1beta1 as tts\n",
    "import bson, json\n",
    "import dotenv, os\n",
    "from dataclasses import dataclass\n",
    "import datetime\n",
    "from tqdm import tqdm\n",
    "import asyncio\n",
    "\n",
    "dotenv.load_dotenv()"
   ]
  },
  {
   "cell_type": "markdown",
   "metadata": {},
   "source": [
    "### Audio generation"
   ]
  },
  {
   "cell_type": "code",
   "execution_count": 43,
   "metadata": {},
   "outputs": [],
   "source": [
    "def words_to_ssml(words: list[str]) -> str:\n",
    "    ssml: str = \"<speak>\\n\"\n",
    "\n",
    "    for i, word in enumerate(words):\n",
    "        word_clean = word.replace('&', '&amp;').replace('<', '&lt;').replace('>', '&gt;').replace('\"', '&quot;').replace(\"'\", '&apos;')\n",
    "        ssml += (f'<mark name=\"{i}\"/>{word_clean} ')\n",
    "\n",
    "    ssml = ssml.strip() + \"\\n</speak>\"\n",
    "\n",
    "    return ssml"
   ]
  },
  {
   "cell_type": "code",
   "execution_count": 44,
   "metadata": {},
   "outputs": [],
   "source": [
    "async def synthesize_speech(ssml, voice_name='en-US-Neural2-J'):\n",
    "    client = tts.TextToSpeechAsyncClient(\n",
    "        client_options={\"api_key\": os.getenv('GOOGLE_CLOUD_API_KEY')}\n",
    "    )\n",
    "    \n",
    "    voice = tts.VoiceSelectionParams(\n",
    "        language_code=\"en-US\",\n",
    "        name=voice_name,\n",
    "    )\n",
    "    \n",
    "    response = await client.synthesize_speech(\n",
    "        request=tts.SynthesizeSpeechRequest(\n",
    "            input=tts.SynthesisInput(ssml=ssml),\n",
    "            voice=voice,\n",
    "            audio_config=tts.AudioConfig(\n",
    "                audio_encoding=tts.AudioEncoding.MP3,\n",
    "                speaking_rate=1\n",
    "            ),\n",
    "            enable_time_pointing=[\n",
    "                tts.SynthesizeSpeechRequest.TimepointType.SSML_MARK\n",
    "            ]\n",
    "        )\n",
    "    )\n",
    "\n",
    "    audio = response.audio_content\n",
    "    marks = [t.time_seconds for t in response.timepoints]\n",
    "\n",
    "    return (audio, marks)"
   ]
  },
  {
   "cell_type": "markdown",
   "metadata": {},
   "source": [
    "### Schema definition & DB generation"
   ]
  },
  {
   "cell_type": "code",
   "execution_count": 45,
   "metadata": {},
   "outputs": [],
   "source": [
    "import ormar\n",
    "import datetime\n",
    "from typing import Optional, List\n",
    "from databases import Database\n",
    "from sqlalchemy import create_engine, MetaData\n",
    "\n",
    "DATEBASE_VERSION = \"1.0\"\n",
    "DATABASE_URL = f\"sqlite:///out/quizzies_v{DATEBASE_VERSION}.db\"\n",
    "\n",
    "engine = create_engine(DATABASE_URL)\n",
    "metadata = MetaData()\n",
    "database = Database(DATABASE_URL)  # You can change this to your database URL\n",
    "base_ormar_config = ormar.OrmarConfig(\n",
    "    metadata=MetaData(),\n",
    "    database=Database(DATABASE_URL),\n",
    "    engine=engine,\n",
    ")\n",
    "\n",
    "class QuizSet(ormar.Model):\n",
    "    ormar_config = base_ormar_config.copy(tablename=\"sets\")\n",
    "\n",
    "    id: str = ormar.String(max_length=512, primary_key=True)\n",
    "    name: str = ormar.Text()\n",
    "    year: int = ormar.Integer()\n",
    "    difficulty: int = ormar.Integer()\n",
    "    standard: bool = ormar.Boolean()\n",
    "\n",
    "class QuizPacket(ormar.Model):\n",
    "    ormar_config = base_ormar_config.copy(tablename=\"packets\")\n",
    "\n",
    "    id: str = ormar.String(max_length=512, primary_key=True)\n",
    "    set: QuizSet = ormar.ForeignKey(QuizSet)\n",
    "    name: str = ormar.Text()\n",
    "    number: int = ormar.Integer()\n",
    "\n",
    "class Tossup(ormar.Model):\n",
    "    ormar_config = base_ormar_config.copy(tablename=\"tossups\")\n",
    "\n",
    "    id: str = ormar.String(max_length=512, primary_key=True)\n",
    "    category: str = ormar.Text()\n",
    "    subcategory: str = ormar.Text()\n",
    "    difficulty: int = ormar.Integer()\n",
    "\n",
    "    set: Optional[QuizSet] = ormar.ForeignKey(QuizSet)\n",
    "    packet: Optional[QuizPacket] = ormar.ForeignKey(QuizPacket)\n",
    "    number: int = ormar.Integer()\n",
    "\n",
    "    question: List[str] = ormar.JSON()  # Stored as JSON array\n",
    "    word_timing: List[float] = ormar.JSON()  # Stored as JSON array\n",
    "    answer: str = ormar.Text()\n",
    "    power_mark: int = ormar.Integer()\n",
    "\n",
    "    audio: bytes = ormar.LargeBinary(max_length=(5*(10**6)))  # Stored as BLOB\n",
    "\n",
    "    qbr_created: datetime.datetime = ormar.DateTime()\n",
    "    qbr_updated: datetime.datetime = ormar.DateTime()\n",
    "    rerun_marker: int = ormar.Integer()\n",
    "\n",
    "base_ormar_config.metadata.drop_all(engine)\n",
    "base_ormar_config.metadata.create_all(engine)"
   ]
  },
  {
   "cell_type": "markdown",
   "metadata": {},
   "source": [
    "### Helper functions"
   ]
  },
  {
   "cell_type": "code",
   "execution_count": 46,
   "metadata": {},
   "outputs": [],
   "source": [
    "RERUN_MARKER = 1\n",
    "\n",
    "async def process_tossup(tossup: dict) -> None:\n",
    "    existing_tossup = await Tossup.objects.get_or_none(id=str(tossup['_id']))\n",
    "    if existing_tossup and existing_tossup.rerun_marker == RERUN_MARKER:\n",
    "        return\n",
    "\n",
    "    qpacket = await QuizPacket.objects.get_or_none(id=str(tossup['packet']['_id']))\n",
    "    qset = await QuizSet.objects.get_or_none(id=str(tossup['set']['_id']))\n",
    "\n",
    "    words: list[str] = tossup['question_sanitized'].split()\n",
    "    \n",
    "    power_mark: int = next((i for i, word in enumerate(words) if \"(*)\" in word), 0) - 1\n",
    "    if power_mark:\n",
    "        words = words[:power_mark+1] + words[power_mark+2:]\n",
    "\n",
    "    ssml: str = words_to_ssml(words)\n",
    "    audio, timestamps = await synthesize_speech(ssml)\n",
    "\n",
    "    m_tossup = Tossup(\n",
    "        id=str(tossup['_id']), \n",
    "        category=tossup['category'], \n",
    "        subcategory=tossup['subcategory'], \n",
    "        difficulty=tossup['difficulty'], \n",
    "        set=qset,\n",
    "        packet=qpacket,\n",
    "        number=tossup['number'], \n",
    "        question=words, \n",
    "        word_timing=timestamps, \n",
    "        answer=tossup['answer_sanitized'], \n",
    "        power_mark=power_mark, \n",
    "        audio=audio, \n",
    "        qbr_created=tossup['createdAt'], \n",
    "        qbr_updated=tossup['updatedAt'], \n",
    "        rerun_marker=RERUN_MARKER\n",
    "    )\n",
    "\n",
    "    await m_tossup.save()"
   ]
  },
  {
   "cell_type": "code",
   "execution_count": 47,
   "metadata": {
    "notebookRunGroups": {
     "groupValue": "2"
    }
   },
   "outputs": [],
   "source": [
    "async def process_batch(batch: list[dict]):\n",
    "    tasks = [process_tossup(tossup) for tossup in batch]\n",
    "    await asyncio.gather(*tasks)"
   ]
  },
  {
   "cell_type": "markdown",
   "metadata": {},
   "source": [
    "### Runner"
   ]
  },
  {
   "cell_type": "code",
   "execution_count": 48,
   "metadata": {},
   "outputs": [],
   "source": [
    "with open(\"D:\\\\Seafile\\\\Personal\\\\projects\\\\quizzies\\\\qbreader_db\\\\2024-11-18_22_56_52\\\\tossups.bson\", \"rb\") as file:\n",
    "    tossups = bson.decode_all(file.read())\n",
    "with open(\"D:\\\\Seafile\\\\Personal\\\\projects\\\\quizzies\\\\qbreader_db\\\\2024-11-18_22_56_52\\\\bonuses.bson\", \"rb\") as file:\n",
    "    bonuses = bson.decode_all(file.read())\n",
    "with open(\"D:\\\\Seafile\\\\Personal\\\\projects\\\\quizzies\\\\qbreader_db\\\\2024-11-18_22_56_52\\\\sets.bson\", \"rb\") as file:\n",
    "    sets = bson.decode_all(file.read())\n",
    "with open(\"D:\\\\Seafile\\\\Personal\\\\projects\\\\quizzies\\\\qbreader_db\\\\2024-11-18_22_56_52\\\\packets.bson\", \"rb\") as file:\n",
    "    packets = bson.decode_all(file.read())\n"
   ]
  },
  {
   "cell_type": "code",
   "execution_count": 49,
   "metadata": {},
   "outputs": [
    {
     "name": "stderr",
     "output_type": "stream",
     "text": [
      "Sets: 100%|██████████| 605/605 [00:02<00:00, 202.35it/s]\n",
      "Packets: 100%|██████████| 7752/7752 [00:55<00:00, 138.73it/s]\n"
     ]
    }
   ],
   "source": [
    "for mset in tqdm(sets, desc=\"Sets\"):\n",
    "    qset = await QuizSet.objects.get_or_none(id=str(mset['_id']))\n",
    "    if qset is None:\n",
    "        qset = QuizSet(\n",
    "            id=str(mset['_id']),\n",
    "            name=mset['name'],\n",
    "            difficulty=mset['difficulty'],\n",
    "            year=mset['year'],\n",
    "            standard=mset['standard']\n",
    "        )\n",
    "        await qset.save()\n",
    "\n",
    "\n",
    "for packet in tqdm(packets, desc=\"Packets\"):\n",
    "    qpacket = await QuizPacket.objects.get_or_none(id=str(packet['_id']))\n",
    "    if qpacket is None:\n",
    "        qset = await QuizSet.objects.get_or_none(id=str(packet['set']['_id']))\n",
    "        qpacket = QuizPacket(\n",
    "            id=str(packet['_id']),\n",
    "            set=qset,\n",
    "            name=packet['name'],\n",
    "            number=packet['number']\n",
    "        )\n",
    "        await qpacket.save()"
   ]
  },
  {
   "cell_type": "code",
   "execution_count": 50,
   "metadata": {},
   "outputs": [
    {
     "name": "stdout",
     "output_type": "stream",
     "text": [
      "With 18,658,161 characters, estimated API cost is $298.53 for 7,753 tossups.\n"
     ]
    }
   ],
   "source": [
    "# I am broke!\n",
    "char_ct = 0\n",
    "\n",
    "include_tossups = [tossup for tossup in tossups if (\n",
    "    tossup['difficulty'] <= 5 and\n",
    "    tossup['set']['year'] >= 2022 and\n",
    "    tossup['set']['standard'] == True\n",
    ")]\n",
    "\n",
    "for tossup in include_tossups:\n",
    "    ssml = words_to_ssml(tossup['question_sanitized'].split())\n",
    "    char_ct += len(ssml)\n",
    "\n",
    "print(f\"With {char_ct:,} characters, estimated API cost is ${char_ct/1e6*16:.2f} for {len(include_tossups):,} tossups.\")"
   ]
  },
  {
   "cell_type": "code",
   "execution_count": 51,
   "metadata": {},
   "outputs": [
    {
     "name": "stderr",
     "output_type": "stream",
     "text": [
      "100%|██████████| 156/156 [20:36<00:00,  7.93s/it]\n"
     ]
    }
   ],
   "source": [
    "BATCH_SIZE = 50  # can be adjusted based on performance\n",
    "RATE_LIMIT = 900/60  # requests per second limit\n",
    "\n",
    "START_AT = 0\n",
    "END_AT = len(include_tossups)\n",
    "\n",
    "batches = [ include_tossups[i:i+BATCH_SIZE] for i in range(START_AT, END_AT, BATCH_SIZE) ]\n",
    "\n",
    "for batch in tqdm(batches):\n",
    "    await process_batch(batch)\n",
    "    await asyncio.sleep(len(batch) / RATE_LIMIT)"
   ]
  }
 ],
 "metadata": {
  "kernelspec": {
   "display_name": "quizzies",
   "language": "python",
   "name": "python3"
  },
  "language_info": {
   "codemirror_mode": {
    "name": "ipython",
    "version": 3
   },
   "file_extension": ".py",
   "mimetype": "text/x-python",
   "name": "python",
   "nbconvert_exporter": "python",
   "pygments_lexer": "ipython3",
   "version": "3.12.7"
  }
 },
 "nbformat": 4,
 "nbformat_minor": 2
}
